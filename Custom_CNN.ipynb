{
  "nbformat": 4,
  "nbformat_minor": 0,
  "metadata": {
    "kernelspec": {
      "display_name": "Python 3",
      "language": "python",
      "name": "python3"
    },
    "language_info": {
      "codemirror_mode": {
        "name": "ipython",
        "version": 3
      },
      "file_extension": ".py",
      "mimetype": "text/x-python",
      "name": "python",
      "nbconvert_exporter": "python",
      "pygments_lexer": "ipython3",
      "version": "3.8.3"
    },
    "colab": {
      "name": "Image_Classification_Custom_AlexNet.ipynb",
      "provenance": [],
      "collapsed_sections": [],
      "toc_visible": true
    },
    "accelerator": "GPU"
  },
  "cells": [
    {
      "cell_type": "code",
      "metadata": {
        "id": "D80kHOm8h2l4"
      },
      "source": [
        "import os\n",
        "import numpy as np\n",
        "import matplotlib.pyplot as plt\n",
        "import cv2\n",
        "import pandas as pd\n",
        "import random\n",
        "from sklearn import preprocessing\n",
        "from keras.preprocessing.image import img_to_array"
      ],
      "execution_count": null,
      "outputs": []
    },
    {
      "cell_type": "code",
      "metadata": {
        "id": "nd3TqyRZpSBd"
      },
      "source": [
        ""
      ],
      "execution_count": null,
      "outputs": []
    },
    {
      "cell_type": "code",
      "metadata": {
        "id": "Af_bh0UPjV3A"
      },
      "source": [
        "#from google.colab import drive\n",
        "#drive.mount('/content/drive')"
      ],
      "execution_count": null,
      "outputs": []
    },
    {
      "cell_type": "code",
      "metadata": {
        "id": "3jCZTbR7jdME"
      },
      "source": [
        "#! tar -xvf 'dataset.tar.xz'"
      ],
      "execution_count": null,
      "outputs": []
    },
    {
      "cell_type": "code",
      "metadata": {
        "id": "nWT2asQhh2l-"
      },
      "source": [
        "# defining global variable path\n",
        "image_path = \"/content/dataset\"\n",
        "label_path = \"/content/dataset/train.csv\"\n",
        "img_size = 224"
      ],
      "execution_count": null,
      "outputs": []
    },
    {
      "cell_type": "code",
      "metadata": {
        "id": "SCeWJC83h2mE"
      },
      "source": [
        "batch_size = 64\n",
        "epochs = 10"
      ],
      "execution_count": null,
      "outputs": []
    },
    {
      "cell_type": "markdown",
      "metadata": {
        "id": "MFSAClSch2l-"
      },
      "source": [
        "### Load the images and the labels (from path to array)"
      ]
    },
    {
      "cell_type": "code",
      "metadata": {
        "id": "QQ0Azhljh2l_"
      },
      "source": [
        "def load_images_labels(image_path, label_path):\n",
        "    image_files = sorted([os.path.join(image_path, 'train', file)\n",
        "         for file in os.listdir(image_path + \"/train\") if file.endswith('.jpg')])\n",
        "    random.seed(42)\n",
        "    random.shuffle(image_files)\n",
        "    \n",
        "    labels_df = pd.read_csv(label_path)\n",
        "    labels_dict = {}\n",
        "    for pair in labels_df.iloc[0:,0:2].values:\n",
        "        labels_dict[pair[0]] = pair[1]\n",
        "        \n",
        "    labels = []\n",
        "    for img in image_files:\n",
        "        labels.append(labels_dict[img.split('/')[-1].split('.')[0]])\n",
        "    \n",
        "    lb = preprocessing.LabelBinarizer()\n",
        "    labels = lb.fit_transform(labels)\n",
        "    classes = lb.classes_\n",
        "    \n",
        "    return image_files, labels, classes"
      ],
      "execution_count": null,
      "outputs": []
    },
    {
      "cell_type": "code",
      "metadata": {
        "colab": {
          "base_uri": "https://localhost:8080/"
        },
        "id": "3ihFlU52h2l_",
        "outputId": "dd93eac1-3a08-4035-b71d-2948b9194fa6"
      },
      "source": [
        "image_files, labels, classes = load_images_labels(image_path, label_path)\n",
        "print(\"Total Images : \",len(image_files))\n",
        "print(\"Total Labels : \",len(labels))\n",
        "print(\"Total Classes : \",len(classes))"
      ],
      "execution_count": null,
      "outputs": [
        {
          "output_type": "stream",
          "text": [
            "Total Images :  5508\n",
            "Total Labels :  5508\n",
            "Total Classes :  35\n"
          ],
          "name": "stdout"
        }
      ]
    },
    {
      "cell_type": "markdown",
      "metadata": {
        "id": "JjyrrNGoh2mA"
      },
      "source": [
        "### Preprocessing and Data Augmentation"
      ]
    },
    {
      "cell_type": "code",
      "metadata": {
        "colab": {
          "base_uri": "https://localhost:8080/",
          "height": 120
        },
        "id": "h6adAzJ1h2mA",
        "outputId": "ef9b7f99-031f-4b3c-e547-ce6b65baf0db"
      },
      "source": [
        "'''\n",
        "def display(a, b, title1 = \"Original\", title2 = \"Edited\"):\n",
        "    plt.subplot(121), plt.imshow(a), plt.title(title1)\n",
        "    plt.xticks([]), plt.yticks([])\n",
        "    plt.subplot(122), plt.imshow(b), plt.title(title2)\n",
        "    plt.xticks([]), plt.yticks([])\n",
        "    plt.show()\n",
        "    \n",
        "def processing(data):\n",
        "    img = [cv2.imread(i, cv2.IMREAD_UNCHANGED) for i in data]\n",
        "    original = img[0]\n",
        "    \n",
        "    # Resizing the images\n",
        "    height = 224\n",
        "    width = 224\n",
        "    dim = (width, height)\n",
        "    res_img = []\n",
        "    for i in range(len(img)):\n",
        "        res = cv2.resize(img[i], dim, interpolation=cv2.INTER_LINEAR)\n",
        "        res_img.append(res)\n",
        "    print('Original size',img[0].shape)\n",
        "    print(\"Resized Shapes\", res_img[1].shape)\n",
        "    display(original,res_img[0],'Original','Resized')\n",
        "    \n",
        "    # Denoising the images\n",
        "    no_noise = []\n",
        "    for i in range(len(res_img)):\n",
        "        blur = cv2.GaussianBlur(res_img[i], (5, 5), 0)\n",
        "        no_noise.append(blur)\n",
        "    display(original, no_noise[0], 'Original', 'Blured')\n",
        "    return no_noise\n",
        "'''"
      ],
      "execution_count": null,
      "outputs": [
        {
          "output_type": "execute_result",
          "data": {
            "application/vnd.google.colaboratory.intrinsic+json": {
              "type": "string"
            },
            "text/plain": [
              "'\\ndef display(a, b, title1 = \"Original\", title2 = \"Edited\"):\\n    plt.subplot(121), plt.imshow(a), plt.title(title1)\\n    plt.xticks([]), plt.yticks([])\\n    plt.subplot(122), plt.imshow(b), plt.title(title2)\\n    plt.xticks([]), plt.yticks([])\\n    plt.show()\\n    \\ndef processing(data):\\n    img = [cv2.imread(i, cv2.IMREAD_UNCHANGED) for i in data]\\n    original = img[0]\\n    \\n    # Resizing the images\\n    height = 224\\n    width = 224\\n    dim = (width, height)\\n    res_img = []\\n    for i in range(len(img)):\\n        res = cv2.resize(img[i], dim, interpolation=cv2.INTER_LINEAR)\\n        res_img.append(res)\\n    print(\\'Original size\\',img[0].shape)\\n    print(\"Resized Shapes\", res_img[1].shape)\\n    display(original,res_img[0],\\'Original\\',\\'Resized\\')\\n    \\n    # Denoising the images\\n    no_noise = []\\n    for i in range(len(res_img)):\\n        blur = cv2.GaussianBlur(res_img[i], (5, 5), 0)\\n        no_noise.append(blur)\\n    display(original, no_noise[0], \\'Original\\', \\'Blured\\')\\n    return no_noise\\n'"
            ]
          },
          "metadata": {
            "tags": []
          },
          "execution_count": 8
        }
      ]
    },
    {
      "cell_type": "code",
      "metadata": {
        "id": "hsOeMSTKh2mB"
      },
      "source": [
        "X = []\n",
        "for img in image_files:\n",
        "  i = cv2.imread(img)\n",
        "  i = cv2.resize(i, (img_size, img_size))\n",
        "  i = img_to_array(i)\n",
        "  X.append(i)"
      ],
      "execution_count": null,
      "outputs": []
    },
    {
      "cell_type": "code",
      "metadata": {
        "id": "s1AvlxMGh2mB"
      },
      "source": [
        "from sklearn.model_selection import train_test_split\n",
        "from keras.preprocessing.image import ImageDataGenerator\n",
        "x_train, x_val, y_train, y_val = train_test_split(X, labels, test_size=0.20)\n",
        "x_train = np.array(x_train)/255\n",
        "x_val = np.array(x_val) \n",
        "y_train = np.array(y_train)\n",
        "y_val = np.array(y_val)\n",
        "\n",
        "train_datagen = ImageDataGenerator(\n",
        "      rescale=1./255,\n",
        "      rotation_range=20,\n",
        "      width_shift_range=0.2,\n",
        "      height_shift_range=0.2,\n",
        "      horizontal_flip=True,\n",
        "      fill_mode='nearest')\n",
        "\n",
        "validation_datagen = ImageDataGenerator(rescale=1./255)\n",
        "\n",
        "train_generator = train_datagen.flow(\n",
        "    x_train,\n",
        "    y=y_train,\n",
        "    batch_size=batch_size,\n",
        "    shuffle=True,\n",
        "    sample_weight=None,\n",
        "    seed=None,\n",
        "    save_to_dir=None,\n",
        "    subset=None)\n",
        "\n",
        "validation_generator = validation_datagen.flow(\n",
        "    x_val,\n",
        "    y=y_val,\n",
        "    batch_size=batch_size,\n",
        "    shuffle=True,\n",
        "    sample_weight=None,\n",
        "    seed=None,\n",
        "    save_to_dir=None,\n",
        "    subset=None)"
      ],
      "execution_count": null,
      "outputs": []
    },
    {
      "cell_type": "markdown",
      "metadata": {
        "id": "gJFDbfzjor9d"
      },
      "source": [
        "### Building the Model\n",
        "\n",
        "[Conv -> Pool] -> [Conv -> Pool] -> [Conv] -> [Conv] -> [Conv -> Pool] -> Flatten -> Full Connection"
      ]
    },
    {
      "cell_type": "code",
      "metadata": {
        "id": "xLEwrMC2h2mC"
      },
      "source": [
        "from keras.models import Sequential\n",
        "from keras.layers import Convolution2D, MaxPooling2D, Flatten, Dense, Dropout\n",
        "from keras.layers.normalization import BatchNormalization\n",
        "from keras import optimizers"
      ],
      "execution_count": null,
      "outputs": []
    },
    {
      "cell_type": "code",
      "metadata": {
        "id": "hDyh4-zOor9d"
      },
      "source": [
        "# Initializing the model\n",
        "model = Sequential()"
      ],
      "execution_count": null,
      "outputs": []
    },
    {
      "cell_type": "code",
      "metadata": {
        "id": "sZKIZN5_or9e",
        "colab": {
          "base_uri": "https://localhost:8080/"
        },
        "outputId": "a0724f09-8c88-4af2-d881-cde5b679ac62"
      },
      "source": [
        "# Convolution Layer \n",
        "model.add(Convolution2D(96, 11, strides = (4, 4), padding = 'valid', input_shape=(224, 224, 3), activation = 'relu'))\n",
        "# Max Pooling Layer \n",
        "model.add(MaxPooling2D(pool_size = (2, 2), strides = (2, 2), padding = 'valid'))\n",
        "# Batch Normalization \n",
        "model.add(BatchNormalization())\n",
        "\n",
        "# Convolution Layer \n",
        "model.add(Convolution2D(256, 11, strides = (1, 1), padding='valid', activation = 'relu'))\n",
        "# Max Pooling Layer \n",
        "model.add(MaxPooling2D(pool_size = (2, 2), strides = (2, 2), padding='valid'))\n",
        "# Batch Normalization\n",
        "model.add(BatchNormalization())\n",
        "\n",
        "# Convolution Layer \n",
        "model.add(Convolution2D(384, 3, strides = (1, 1), padding='valid', activation = 'relu'))\n",
        "# Batch Normalization\n",
        "model.add(BatchNormalization())\n",
        "\n",
        "# Convolution Layer \n",
        "model.add(Convolution2D(384, 3, strides = (1, 1), padding='valid', activation = 'relu'))\n",
        "# Batch Normalization\n",
        "model.add(BatchNormalization())\n",
        "\n",
        "# Convolution Layer \n",
        "model.add(Convolution2D(256, 3, strides=(1,1), padding='valid', activation = 'relu'))\n",
        "# Max Pooling Layer \n",
        "model.add(MaxPooling2D(pool_size = (2, 2), strides = (2, 2), padding = 'valid'))\n",
        "# Batch Normalization\n",
        "model.add(BatchNormalization())\n",
        "\n",
        "# Flattening Step\n",
        "model.add(Flatten())\n",
        "\n",
        "# Full Connection Step\n",
        "model.add(Dense(units = 4096, activation = 'relu'))\n",
        "model.add(Dropout(0.4))\n",
        "model.add(BatchNormalization())\n",
        "model.add(Dense(units = 4096, activation = 'relu'))\n",
        "model.add(Dropout(0.4))\n",
        "model.add(BatchNormalization())\n",
        "model.add(Dense(units = 1000, activation = 'relu'))\n",
        "model.add(Dropout(0.2))\n",
        "model.add(BatchNormalization())\n",
        "model.add(Dense(units = 35, activation = 'softmax'))"
      ],
      "execution_count": null,
      "outputs": [
        {
          "output_type": "stream",
          "text": [
            "WARNING:tensorflow:From /usr/local/lib/python3.7/dist-packages/tensorflow/python/ops/resource_variable_ops.py:435: colocate_with (from tensorflow.python.framework.ops) is deprecated and will be removed in a future version.\n",
            "Instructions for updating:\n",
            "Colocations handled automatically by placer.\n"
          ],
          "name": "stdout"
        }
      ]
    },
    {
      "cell_type": "code",
      "metadata": {
        "colab": {
          "base_uri": "https://localhost:8080/"
        },
        "id": "Srb3s2Ueor9g",
        "outputId": "903fac4b-5cfc-405b-85ce-00905e7059cd"
      },
      "source": [
        "model.summary()"
      ],
      "execution_count": null,
      "outputs": [
        {
          "output_type": "stream",
          "text": [
            "Model: \"sequential_1\"\n",
            "_________________________________________________________________\n",
            "Layer (type)                 Output Shape              Param #   \n",
            "=================================================================\n",
            "conv2d_1 (Conv2D)            (None, 54, 54, 96)        34944     \n",
            "_________________________________________________________________\n",
            "max_pooling2d_1 (MaxPooling2 (None, 27, 27, 96)        0         \n",
            "_________________________________________________________________\n",
            "batch_normalization_1 (Batch (None, 27, 27, 96)        384       \n",
            "_________________________________________________________________\n",
            "conv2d_2 (Conv2D)            (None, 17, 17, 256)       2973952   \n",
            "_________________________________________________________________\n",
            "max_pooling2d_2 (MaxPooling2 (None, 8, 8, 256)         0         \n",
            "_________________________________________________________________\n",
            "batch_normalization_2 (Batch (None, 8, 8, 256)         1024      \n",
            "_________________________________________________________________\n",
            "conv2d_3 (Conv2D)            (None, 6, 6, 384)         885120    \n",
            "_________________________________________________________________\n",
            "batch_normalization_3 (Batch (None, 6, 6, 384)         1536      \n",
            "_________________________________________________________________\n",
            "conv2d_4 (Conv2D)            (None, 4, 4, 384)         1327488   \n",
            "_________________________________________________________________\n",
            "batch_normalization_4 (Batch (None, 4, 4, 384)         1536      \n",
            "_________________________________________________________________\n",
            "conv2d_5 (Conv2D)            (None, 2, 2, 256)         884992    \n",
            "_________________________________________________________________\n",
            "max_pooling2d_3 (MaxPooling2 (None, 1, 1, 256)         0         \n",
            "_________________________________________________________________\n",
            "batch_normalization_5 (Batch (None, 1, 1, 256)         1024      \n",
            "_________________________________________________________________\n",
            "flatten_1 (Flatten)          (None, 256)               0         \n",
            "_________________________________________________________________\n",
            "dense_1 (Dense)              (None, 4096)              1052672   \n",
            "_________________________________________________________________\n",
            "dropout_1 (Dropout)          (None, 4096)              0         \n",
            "_________________________________________________________________\n",
            "batch_normalization_6 (Batch (None, 4096)              16384     \n",
            "_________________________________________________________________\n",
            "dense_2 (Dense)              (None, 4096)              16781312  \n",
            "_________________________________________________________________\n",
            "dropout_2 (Dropout)          (None, 4096)              0         \n",
            "_________________________________________________________________\n",
            "batch_normalization_7 (Batch (None, 4096)              16384     \n",
            "_________________________________________________________________\n",
            "dense_3 (Dense)              (None, 1000)              4097000   \n",
            "_________________________________________________________________\n",
            "dropout_3 (Dropout)          (None, 1000)              0         \n",
            "_________________________________________________________________\n",
            "batch_normalization_8 (Batch (None, 1000)              4000      \n",
            "_________________________________________________________________\n",
            "dense_4 (Dense)              (None, 35)                35035     \n",
            "=================================================================\n",
            "Total params: 28,114,787\n",
            "Trainable params: 28,093,651\n",
            "Non-trainable params: 21,136\n",
            "_________________________________________________________________\n"
          ],
          "name": "stdout"
        }
      ]
    },
    {
      "cell_type": "code",
      "metadata": {
        "id": "AKoIMdeBh2mE"
      },
      "source": [
        "model.compile(optimizer=optimizers.SGD(lr=0.001),\n",
        "                   loss='categorical_crossentropy',\n",
        "                   metrics=['accuracy'])"
      ],
      "execution_count": null,
      "outputs": []
    },
    {
      "cell_type": "code",
      "metadata": {
        "colab": {
          "base_uri": "https://localhost:8080/"
        },
        "id": "wxVy5--zh2mE",
        "outputId": "c269ff6a-e85d-456a-8d4c-f80dde934497"
      },
      "source": [
        "history = model.fit(train_generator, steps_per_epoch = len(x_train) // batch_size,\n",
        "    validation_data=validation_generator, validation_steps=len(x_val) // batch_size,\n",
        "    epochs=epochs, verbose=1)"
      ],
      "execution_count": null,
      "outputs": [
        {
          "output_type": "stream",
          "text": [
            "WARNING:tensorflow:From /usr/local/lib/python3.7/dist-packages/tensorflow/python/ops/math_ops.py:3066: to_int32 (from tensorflow.python.ops.math_ops) is deprecated and will be removed in a future version.\n",
            "Instructions for updating:\n",
            "Use tf.cast instead.\n",
            "Epoch 1/10\n",
            "68/68 [==============================] - 766s 11s/step - loss: 4.4017 - accuracy: 0.0306 - val_loss: 3.5262 - val_accuracy: 0.0285\n",
            "Epoch 2/10\n",
            "68/68 [==============================] - 763s 11s/step - loss: 4.3825 - accuracy: 0.0318 - val_loss: 3.6298 - val_accuracy: 0.0279\n",
            "Epoch 3/10\n",
            "68/68 [==============================] - 762s 11s/step - loss: 4.3434 - accuracy: 0.0329 - val_loss: 4.0391 - val_accuracy: 0.0385\n",
            "Epoch 4/10\n",
            "68/68 [==============================] - 763s 11s/step - loss: 4.3222 - accuracy: 0.0341 - val_loss: 7.3665 - val_accuracy: 0.0308\n",
            "Epoch 5/10\n",
            " 9/68 [==>...........................] - ETA: 10:33 - loss: 4.2337 - accuracy: 0.0486"
          ],
          "name": "stdout"
        }
      ]
    },
    {
      "cell_type": "code",
      "metadata": {
        "id": "nLL_77IXh2mE"
      },
      "source": [
        ""
      ],
      "execution_count": null,
      "outputs": []
    }
  ]
}